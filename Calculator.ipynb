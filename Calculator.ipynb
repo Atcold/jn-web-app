{
 "cells": [
  {
   "cell_type": "markdown",
   "metadata": {},
   "source": [
    "# My first interactive web app\n",
    "\n",
    "Here is my first attempt to create a webapp that sums, subtracts, multiplies, and divides two numbers."
   ]
  },
  {
   "cell_type": "code",
   "execution_count": 1,
   "metadata": {},
   "outputs": [],
   "source": [
    "import ipywidgets as widgets\n",
    "import IPython.display"
   ]
  },
  {
   "cell_type": "code",
   "execution_count": 2,
   "metadata": {},
   "outputs": [],
   "source": [
    "class Calculator():\n",
    "    def __init__(self):\n",
    "        self.a = widgets.Text(placeholder='a', description='a: ')\n",
    "        self.b = widgets.Text(placeholder='b', description='b: ')\n",
    "        self.c = widgets.Text(placeholder='c', description='c: ')\n",
    "\n",
    "        def sum(x=None):\n",
    "            self.c.value = f'{float(self.a.value) + float(self.b.value):.2f}'\n",
    "            self.c.description = 'c = a + b: '\n",
    "        def sub(x=None):\n",
    "            self.c.value = f'{float(self.a.value) - float(self.b.value):.2f}'\n",
    "            self.c.description = 'c = a – b: '\n",
    "        def mul(x=None):\n",
    "            self.c.value = f'{float(self.a.value) * float(self.b.value):.2f}'\n",
    "            self.c.description = 'c = a * b: '\n",
    "        def div(x=None):\n",
    "            self.c.value = f'{float(self.a.value) / float(self.b.value):.2f}'\n",
    "            self.c.description = 'c = a / b: '\n",
    "\n",
    "        operations = (\n",
    "            (sum, '+'),\n",
    "            (sub, '–'),\n",
    "            (mul, '*'),\n",
    "            (div, '/'),\n",
    "        )\n",
    "\n",
    "        items = [widgets.Button(description=o[1]) for o in operations]\n",
    "        for i, o in zip(items, operations): i.on_click(o[0])\n",
    "\n",
    "        box1 = widgets.HBox([items[0], items[1]])\n",
    "        box2 = widgets.HBox([items[2], items[3]])\n",
    "        self.box = widgets.VBox([self.a, self.b, box1, box2, self.c])\n",
    "\n",
    "    def display(self):\n",
    "        IPython.display.display(self.box)"
   ]
  },
  {
   "cell_type": "code",
   "execution_count": 3,
   "metadata": {},
   "outputs": [],
   "source": [
    "cal = Calculator()"
   ]
  },
  {
   "cell_type": "code",
   "execution_count": 4,
   "metadata": {},
   "outputs": [
    {
     "data": {
      "application/vnd.jupyter.widget-view+json": {
       "model_id": "ffa2c29d55bf4ac1961d2a8ddcfaf0dd",
       "version_major": 2,
       "version_minor": 0
      },
      "text/plain": [
       "VBox(children=(Text(value='', description='a: ', placeholder='a'), Text(value='', description='b: ', placehold…"
      ]
     },
     "metadata": {},
     "output_type": "display_data"
    }
   ],
   "source": [
    "cal.display()"
   ]
  }
 ],
 "metadata": {
  "jupytext": {
   "formats": "ipynb,auto:percent"
  },
  "kernelspec": {
   "display_name": "Python 3 [conda env:pDL]",
   "language": "python",
   "name": "python3"
  },
  "language_info": {
   "codemirror_mode": {
    "name": "ipython",
    "version": 3
   },
   "file_extension": ".py",
   "mimetype": "text/x-python",
   "name": "python",
   "nbconvert_exporter": "python",
   "pygments_lexer": "ipython3",
   "version": "3.8.2"
  }
 },
 "nbformat": 4,
 "nbformat_minor": 4
}
